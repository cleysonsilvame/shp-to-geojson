{
 "cells": [
  {
   "cell_type": "code",
   "execution_count": 1,
   "metadata": {},
   "outputs": [
    {
     "data": {
      "text/plain": [
       "False"
      ]
     },
     "execution_count": 1,
     "metadata": {},
     "output_type": "execute_result"
    }
   ],
   "source": [
    "import geopandas as gpd\n",
    "import zipfile\n",
    "import re\n",
    "import os\n",
    "\n",
    "shapefile_zip = \"/Users/cleyson/Desktop/contorno2.zip\"\n",
    "\n",
    "os.path.isfile(shapefile_zip)\n"
   ]
  },
  {
   "cell_type": "code",
   "execution_count": 2,
   "metadata": {},
   "outputs": [
    {
     "name": "stdout",
     "output_type": "stream",
     "text": [
      "Arquivos .shp encontrados\n"
     ]
    },
    {
     "data": {
      "text/plain": [
       "['contorno2.shp']"
      ]
     },
     "execution_count": 2,
     "metadata": {},
     "output_type": "execute_result"
    }
   ],
   "source": [
    "daninhas = []\n",
    "with zipfile.ZipFile(shapefile_zip, 'r') as zip_ref:\n",
    "    lista_arquivos = zip_ref.namelist()\n",
    "\n",
    "    padrao_regex = r'\\/([\\w-]+)\\.shp'\n",
    "    \n",
    "    arquivos_shp = [nome_arquivo for nome_arquivo in lista_arquivos if nome_arquivo.lower().endswith('.shp')]\n",
    "    \n",
    "    for arquivo_shp in arquivos_shp:\n",
    "        daninhas.append(arquivo_shp)\n",
    "print(\"Arquivos .shp encontrados\")\n",
    "daninhas"
   ]
  },
  {
   "cell_type": "code",
   "execution_count": 4,
   "metadata": {},
   "outputs": [],
   "source": [
    "for daninha in daninhas:\n",
    "    file = f\"zip://{shapefile_zip}!{daninha}\"\n",
    "    gdf = gpd.read_file(file)    \n",
    "\n",
    "    gdf = gdf.to_crs(4326)\n",
    "\n",
    "    columns_to_remove = gdf.columns.to_list()\n",
    "    columns_to_remove.remove(\"geometry\")\n",
    "\n",
    "    gdf = gdf.drop(columns_to_remove, axis=1)\n",
    "\n",
    "    daninha_name = daninha.split('.')[0]\n",
    "    gdf.to_file(f'./results/{daninha_name}.json', driver=\"GeoJSON\")"
   ]
  }
 ],
 "metadata": {
  "kernelspec": {
   "display_name": "Python 3",
   "language": "python",
   "name": "python3"
  },
  "language_info": {
   "codemirror_mode": {
    "name": "ipython",
    "version": 3
   },
   "file_extension": ".py",
   "mimetype": "text/x-python",
   "name": "python",
   "nbconvert_exporter": "python",
   "pygments_lexer": "ipython3",
   "version": "3.9.13"
  },
  "orig_nbformat": 4
 },
 "nbformat": 4,
 "nbformat_minor": 2
}
